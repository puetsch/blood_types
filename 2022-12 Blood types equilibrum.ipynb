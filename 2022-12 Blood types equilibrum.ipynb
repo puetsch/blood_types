{
 "cells": [
  {
   "cell_type": "markdown",
   "id": "d5f7d5f1",
   "metadata": {},
   "source": [
    "# Blood type equilibrum\n",
    "\n",
    "The four blood types of the ABO system show a different distribution in different parts of the world.\n",
    "\n",
    "My question: assuming people mate randomly, what's the equilibrum of that distribution?"
   ]
  },
  {
   "cell_type": "code",
   "execution_count": 13,
   "id": "efa05590",
   "metadata": {},
   "outputs": [],
   "source": [
    "import numpy as np\n",
    "from random import random\n",
    "from tqdm.notebook import tnrange"
   ]
  },
  {
   "cell_type": "code",
   "execution_count": 14,
   "id": "8a5def6f",
   "metadata": {},
   "outputs": [],
   "source": [
    "BLOOD_TYPES = ['AA', 'AO', 'BB', 'BO', 'AB', 'OO']"
   ]
  },
  {
   "cell_type": "code",
   "execution_count": 15,
   "id": "9d79d753",
   "metadata": {},
   "outputs": [
    {
     "name": "stdout",
     "output_type": "stream",
     "text": [
      "1.0000000000000002\n"
     ]
    },
    {
     "data": {
      "text/plain": [
       "{'AA': 0.15670100985212412,\n",
       " 'AO': 0.20548509168746093,\n",
       " 'BB': 0.12652869094855546,\n",
       " 'BO': 0.14726178147810248,\n",
       " 'AB': 0.17868336694601886,\n",
       " 'OO': 0.18534005908773826}"
      ]
     },
     "execution_count": 15,
     "metadata": {},
     "output_type": "execute_result"
    }
   ],
   "source": [
    "# initialize with all blood types randomly distributed\n",
    "bt_prob_init = { k: random() for k in BLOOD_TYPES }\n",
    "bt_prob_init = { k: v / sum(bt_prob_init.values()) for k, v in bt_prob_init.items() }\n",
    "print(sum(bt_prob_init.values()))\n",
    "bt_prob_init"
   ]
  },
  {
   "cell_type": "code",
   "execution_count": 16,
   "id": "5b2afa18",
   "metadata": {},
   "outputs": [
    {
     "data": {
      "application/vnd.jupyter.widget-view+json": {
       "model_id": "9318b754975f445994fddfe3c425a3d2",
       "version_major": 2,
       "version_minor": 0
      },
      "text/plain": [
       "  0%|          | 0/10000 [00:00<?, ?it/s]"
      ]
     },
     "metadata": {},
     "output_type": "display_data"
    },
    {
     "name": "stdout",
     "output_type": "stream",
     "text": [
      "0 1.0000000000000002 {'AA': 0.12165114306208168, 'BB': 0.08381098252959737, 'AB': 0.20194753601746843, 'AO': 0.25232065619609634, 'BO': 0.20943302924456914, 'OO': 0.13083665295018726}\n",
      "re-normalizing...\n",
      "re-normalizing...\n",
      "re-normalizing...\n",
      "re-normalizing...\n",
      "re-normalizing...\n",
      "re-normalizing...\n",
      "re-normalizing...\n",
      "1000 1.0 {'AA': 0.1216511430620818, 'BB': 0.08381098252959726, 'AB': 0.20194753601746837, 'AO': 0.2523206561960964, 'BO': 0.20943302924456897, 'OO': 0.1308366529501872}\n",
      "2000 1.0 {'AA': 0.1216511430620818, 'BB': 0.08381098252959726, 'AB': 0.20194753601746837, 'AO': 0.2523206561960964, 'BO': 0.20943302924456897, 'OO': 0.1308366529501872}\n",
      "3000 1.0 {'AA': 0.1216511430620818, 'BB': 0.08381098252959726, 'AB': 0.20194753601746837, 'AO': 0.2523206561960964, 'BO': 0.20943302924456897, 'OO': 0.1308366529501872}\n",
      "4000 1.0 {'AA': 0.1216511430620818, 'BB': 0.08381098252959726, 'AB': 0.20194753601746837, 'AO': 0.2523206561960964, 'BO': 0.20943302924456897, 'OO': 0.1308366529501872}\n",
      "5000 1.0 {'AA': 0.1216511430620818, 'BB': 0.08381098252959726, 'AB': 0.20194753601746837, 'AO': 0.2523206561960964, 'BO': 0.20943302924456897, 'OO': 0.1308366529501872}\n",
      "6000 1.0 {'AA': 0.1216511430620818, 'BB': 0.08381098252959726, 'AB': 0.20194753601746837, 'AO': 0.2523206561960964, 'BO': 0.20943302924456897, 'OO': 0.1308366529501872}\n",
      "7000 1.0 {'AA': 0.1216511430620818, 'BB': 0.08381098252959726, 'AB': 0.20194753601746837, 'AO': 0.2523206561960964, 'BO': 0.20943302924456897, 'OO': 0.1308366529501872}\n",
      "8000 1.0 {'AA': 0.1216511430620818, 'BB': 0.08381098252959726, 'AB': 0.20194753601746837, 'AO': 0.2523206561960964, 'BO': 0.20943302924456897, 'OO': 0.1308366529501872}\n",
      "9000 1.0 {'AA': 0.1216511430620818, 'BB': 0.08381098252959726, 'AB': 0.20194753601746837, 'AO': 0.2523206561960964, 'BO': 0.20943302924456897, 'OO': 0.1308366529501872}\n"
     ]
    }
   ],
   "source": [
    "# AA AA 4\n",
    "# AA AO 4     4\n",
    "# AA BB     8\n",
    "# AA BO     4 4\n",
    "# AA AB 4   4\n",
    "# AA OO       8\n",
    "\n",
    "# AO AO 1     2   1\n",
    "# AO BB     4   4\n",
    "# AO BO     2 2 2 2\n",
    "# AO AB 2   2 2 2\n",
    "# AO OO       4   4\n",
    "\n",
    "# BB BB   4\n",
    "# BB BO   4     4\n",
    "# BB AB   4 4\n",
    "# BB OO         8\n",
    "\n",
    "# BO BO   1     2 1\n",
    "# BO AB   2 2 2 2\n",
    "# BO OO         4 4\n",
    "\n",
    "# AB AB 1 1 2\n",
    "# AB OO       4 4\n",
    "\n",
    "# OO OO           4\n",
    "\n",
    "bt_prob = bt_prob_init.copy()\n",
    "\n",
    "for iterations in tnrange(10000):\n",
    "    if abs(sum(bt_prob.values())-1) > 0.01:\n",
    "        if iterations <= 25:\n",
    "            print(f'Consistency check failed, total probability is {sum(bt_prob.values())}')\n",
    "            break\n",
    "        print(\"re-normalizing...\")\n",
    "        bt_prob = { k: v / sum(bt_prob.values()) for k, v in bt_prob.items() }\n",
    "        \n",
    "#     print(iterations, bt_prob)\n",
    "    \n",
    "    btn = dict()\n",
    "    \n",
    "    btn['AA'] = (\n",
    "        4 * bt_prob['AA'] * bt_prob['AA'] +\n",
    "        4 * bt_prob['AO'] * bt_prob['AA'] +\n",
    "        4 * bt_prob['AA'] * bt_prob['AB'] +\n",
    "        2 * bt_prob['AO'] * bt_prob['AB'] +\n",
    "        1 * bt_prob['AO'] * bt_prob['AO'] +\n",
    "        1 * bt_prob['AB'] * bt_prob['AB'] ) / 4\n",
    "    \n",
    "    btn['BB'] = (\n",
    "        4 * bt_prob['BB'] * bt_prob['BB'] +\n",
    "        4 * bt_prob['BO'] * bt_prob['BB'] +\n",
    "        4 * bt_prob['BB'] * bt_prob['AB'] +\n",
    "        2 * bt_prob['BO'] * bt_prob['AB'] +\n",
    "        1 * bt_prob['BO'] * bt_prob['BO'] +\n",
    "        1 * bt_prob['AB'] * bt_prob['AB'] ) / 4\n",
    "    \n",
    "    btn['AB'] = (\n",
    "        8 * bt_prob['AA'] * bt_prob['BB'] +\n",
    "        4 * bt_prob['AA'] * bt_prob['BO'] +\n",
    "        4 * bt_prob['BB'] * bt_prob['AO'] +\n",
    "        2 * bt_prob['AO'] * bt_prob['BO'] +\n",
    "        2 * bt_prob['AB'] * bt_prob['AO'] +\n",
    "        2 * bt_prob['AB'] * bt_prob['BO'] +\n",
    "        4 * bt_prob['AB'] * bt_prob['AA'] +\n",
    "        4 * bt_prob['AB'] * bt_prob['BB'] +\n",
    "        2 * bt_prob['AB'] * bt_prob['AB'] ) / 4\n",
    "\n",
    "    btn['AO'] = (\n",
    "        4 * bt_prob['AA'] * bt_prob['AO'] +\n",
    "        4 * bt_prob['AA'] * bt_prob['BO'] +\n",
    "        2 * bt_prob['AO'] * bt_prob['AO'] +\n",
    "        2 * bt_prob['AO'] * bt_prob['BO'] +\n",
    "        2 * bt_prob['AO'] * bt_prob['AB'] +        \n",
    "        2 * bt_prob['AB'] * bt_prob['BO'] +\n",
    "        4 * bt_prob['AB'] * bt_prob['OO'] +\n",
    "        4 * bt_prob['AO'] * bt_prob['OO'] +\n",
    "        8 * bt_prob['AA'] * bt_prob['OO']) / 4    \n",
    "    \n",
    "    btn['BO'] = (\n",
    "        4 * bt_prob['BB'] * bt_prob['BO'] +\n",
    "        4 * bt_prob['BB'] * bt_prob['AO'] +\n",
    "        2 * bt_prob['BO'] * bt_prob['BO'] +\n",
    "        2 * bt_prob['AO'] * bt_prob['BO'] +\n",
    "        2 * bt_prob['BO'] * bt_prob['AB'] +        \n",
    "        2 * bt_prob['AB'] * bt_prob['AO'] +\n",
    "        4 * bt_prob['AB'] * bt_prob['OO'] +\n",
    "        4 * bt_prob['BO'] * bt_prob['OO'] +\n",
    "        8 * bt_prob['BB'] * bt_prob['OO'] ) / 4\n",
    "    \n",
    "    btn['OO'] = (\n",
    "        1 * bt_prob['AO'] * bt_prob['AO'] +\n",
    "        2 * bt_prob['AO'] * bt_prob['BO'] +\n",
    "        1 * bt_prob['BO'] * bt_prob['BO'] +\n",
    "        4 * bt_prob['AO'] * bt_prob['OO'] +\n",
    "        4 * bt_prob['BO'] * bt_prob['OO'] +\n",
    "        4 * bt_prob['OO'] * bt_prob['OO']) / 4\n",
    "        \n",
    "    if iterations % 1000 == 0:\n",
    "        print(iterations, sum(btn.values()), btn)\n",
    "\n",
    "    bt_prob = btn"
   ]
  },
  {
   "cell_type": "code",
   "execution_count": 17,
   "id": "91b2733c",
   "metadata": {},
   "outputs": [
    {
     "name": "stdout",
     "output_type": "stream",
     "text": [
      "AA: 12.2%\n",
      "BB:  8.4%\n",
      "AB: 20.2%\n",
      "AO: 25.2%\n",
      "BO: 20.9%\n",
      "OO: 13.1%\n"
     ]
    }
   ],
   "source": [
    "for k,v in bt_prob.items():\n",
    "    print(f\"{k}: {v:5.1%}\")"
   ]
  }
 ],
 "metadata": {
  "kernelspec": {
   "display_name": "Python 3",
   "language": "python",
   "name": "python3"
  },
  "language_info": {
   "codemirror_mode": {
    "name": "ipython",
    "version": 3
   },
   "file_extension": ".py",
   "mimetype": "text/x-python",
   "name": "python",
   "nbconvert_exporter": "python",
   "pygments_lexer": "ipython3",
   "version": "3.6.13"
  }
 },
 "nbformat": 4,
 "nbformat_minor": 5
}
